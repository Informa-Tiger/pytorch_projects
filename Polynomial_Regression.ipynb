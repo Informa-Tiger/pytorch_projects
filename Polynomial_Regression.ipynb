{
  "cells": [
    {
      "cell_type": "code",
      "execution_count": 1,
      "metadata": {
        "id": "dHd323jjYPd1"
      },
      "outputs": [],
      "source": [
        "import typing\n",
        "from typing import Any, Union, Optional, List, Dict\n",
        "\n",
        "import math\n",
        "import numpy as np\n",
        "\n",
        "import matplotlib.pyplot as plt\n",
        "\n",
        "import torch\n",
        "from torch import Tensor"
      ]
    },
    {
      "cell_type": "code",
      "execution_count": 2,
      "metadata": {
        "id": "xBRLIrTLYPd7"
      },
      "outputs": [],
      "source": [
        "class Model:\n",
        "    # degree: int\n",
        "    # weights: Tensor\n",
        "    # regulations: Tensor\n",
        "    # exponents: Tensor\n",
        "    # regulation_factor: float\n",
        "\n",
        "    # total_losshistory: np.ndarray\n",
        "\n",
        "    def __init__(self, degree: int, regulation_factor: float = 0.0): #regulations: Union[Tensor, List[float], None] = None):\n",
        "        if (degree < 0):\n",
        "            raise ValueError(f\"degree must be a non-negative integer\")\n",
        "        self.degree = degree\n",
        "        self.weights = torch.rand(\n",
        "            (degree+1,), dtype=torch.float, requires_grad=True)\n",
        "        self.exponents = torch.linspace(0, degree, degree+1, dtype=torch.int)\n",
        "        self.total_losshistory = np.array([])\n",
        "        self.regulation_factor = regulation_factor\n",
        "        # self.set_regulations(regulations)\n",
        "\n",
        "\n",
        "    # def set_regulations(self, regulations: Union[Tensor, List[float], None] = None):\n",
        "    #     self.regulations = regulations\n",
        "    #     if type(regulations) == list:\n",
        "    #         self.regulations = torch.tensor(regulations, dtype=torch.float)\n",
        "    #     elif regulations is None:\n",
        "    #         self.regulations = torch.zeros((self.degree+1,), dtype=torch.float)\n",
        "    #     if (self.regulations.size() != (self.degree+1,)):\n",
        "    #         raise ValueError(f\"regulations must be of size {self.degree+1}\")\n",
        "\n",
        "    def fit(self, x: Tensor, y: Tensor, epochs: int = 2000, learning_rate: float = 1e-4, regulation_factor: Optional[float] = None):\n",
        "        if (regulation_factor is None): regulation_factor = self.regulation_factor\n",
        "        input = self.extract_features(x)\n",
        "        losshistory = np.array([])\n",
        "\n",
        "        for t in range(epochs):\n",
        "            y_pred = self.forward(input)\n",
        "            loss = (y_pred - y).pow(2).sum() / len(y) + self.weights.abs().sum() * regulation_factor\n",
        "            if (t % 10 == 0):\n",
        "                losshistory = np.append(losshistory, loss.detach().numpy())\n",
        "            loss.backward()\n",
        "            with torch.no_grad():\n",
        "                self.weights -= learning_rate * self.weights.grad\n",
        "                self.weights.grad = None\n",
        "\n",
        "        self.total_losshistory = np.append(self.total_losshistory, losshistory)\n",
        "        return losshistory\n",
        "\n",
        "    def __call__(self, x: Union[float, Tensor, np.ndarray]) -> Union[float, Tensor, np.ndarray]:\n",
        "        y_pred = self.forward(self.extract_features(x)).detach()\n",
        "        if (type(x) in [float, int]):\n",
        "            return y_pred.item()\n",
        "        if (type(x) == Tensor):\n",
        "            return y_pred\n",
        "        else:\n",
        "            return y_pred.numpy()\n",
        "\n",
        "    def extract_features(self, x: Tensor) -> Tensor:\n",
        "      return x.unsqueeze(-1).pow(self.exponents)\n",
        "\n",
        "    def forward(self, input: Tensor) -> Tensor:\n",
        "      return input @ self.weights\n",
        "\n",
        "    def printFunction(self):\n",
        "        return \" + \".join([f\"{self.weights[i]:.2f} x^{i}\" for i in range(self.degree, 0, -1)] + [f\"{self.weights[0]:.2f}\"])\n"
      ]
    },
    {
      "cell_type": "code",
      "execution_count": 3,
      "metadata": {
        "id": "3bUFSXG2YPd8"
      },
      "outputs": [],
      "source": [
        "m: Model = Model(3, regulation_factor=1)"
      ]
    },
    {
      "cell_type": "code",
      "execution_count": 4,
      "metadata": {
        "id": "iIxNTlLNYPd9"
      },
      "outputs": [],
      "source": [
        "x = torch.linspace(-math.pi, math.pi, 2000, dtype=torch.float)\n",
        "y = torch.sin(x)"
      ]
    },
    {
      "cell_type": "code",
      "execution_count": 5,
      "metadata": {
        "colab": {
          "base_uri": "https://localhost:8080/",
          "height": 282
        },
        "id": "lykgNMM2YPd9",
        "outputId": "537b47a7-6dd8-4496-ca76-9e13ae9a2559"
      },
      "outputs": [
        {
          "data": {
            "text/plain": [
              "[<matplotlib.lines.Line2D at 0x15d0494b948>]"
            ]
          },
          "execution_count": 5,
          "metadata": {},
          "output_type": "execute_result"
        },
        {
          "data": {
            "image/png": "[encoded data removed]",
            "text/plain": [
              "<Figure size 432x288 with 1 Axes>"
            ]
          },
          "metadata": {
            "needs_background": "light"
          },
          "output_type": "display_data"
        }
      ],
      "source": [
        "plt.plot(m.fit(x,y, learning_rate=1e-3, epochs=8000, regulation_factor=0))"
      ]
    },
    {
      "cell_type": "code",
      "execution_count": 6,
      "metadata": {
        "colab": {
          "base_uri": "https://localhost:8080/",
          "height": 300
        },
        "id": "-F7EhoHOYPd-",
        "outputId": "98ae7390-fbed-46d7-e038-0da9f505a806"
      },
      "outputs": [
        {
          "name": "stdout",
          "output_type": "stream",
          "text": [
            "-0.09 x^3 + -0.00 x^2 + 0.86 x^1 + 0.00\n"
          ]
        },
        {
          "data": {
            "text/plain": [
              "<matplotlib.legend.Legend at 0x15d04a205c8>"
            ]
          },
          "execution_count": 6,
          "metadata": {},
          "output_type": "execute_result"
        },
        {
          "data": {
            "image/png": "[encoded data removed]",
            "text/plain": [
              "<Figure size 432x288 with 1 Axes>"
            ]
          },
          "metadata": {
            "needs_background": "light"
          },
          "output_type": "display_data"
        }
      ],
      "source": [
        "print(m.printFunction())\n",
        "\n",
        "plt.plot(x, y, label=\"y\")\n",
        "plt.plot(x, m(x), label=\"pred_y\")\n",
        "plt.legend()"
      ]
    }
  ],
  "metadata": {
    "colab": {
      "collapsed_sections": [],
      "name": "Polynominal Regression.ipynb",
      "provenance": []
    },
    "interpreter": {
      "hash": "d7c87b0bbafa600818b742017e71edacb151c810a937eb005e39d07de686fece"
    },
    "kernelspec": {
      "display_name": "Python 3.7.3 64-bit",
      "language": "python",
      "name": "python3"
    },
    "language_info": {
      "codemirror_mode": {
        "name": "ipython",
        "version": 3
      },
      "file_extension": ".py",
      "mimetype": "text/x-python",
      "name": "python",
      "nbconvert_exporter": "python",
      "pygments_lexer": "ipython3",
      "version": "3.7.6"
    },
    "orig_nbformat": 4
  },
  "nbformat": 4,
  "nbformat_minor": 0
}
