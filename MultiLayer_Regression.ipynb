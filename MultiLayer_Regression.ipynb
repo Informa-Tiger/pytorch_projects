{
  "cells": [
    {
      "cell_type": "markdown",
      "metadata": {
        "id": "0qNaZuC3tj1K"
      },
      "source": [
        "# Multi-Layer Regression\n",
        "\n",
        "* In this notebook a mutli-layer model is trained to predict $\\sin{x}$\n",
        "* The class `PolynomialModel` inherits from `torch.nn.Module`\n",
        "* it is trained using `torch.optim`"
      ]
    },
    {
      "cell_type": "code",
      "execution_count": 360,
      "metadata": {
        "id": "IE1aLhdbtfd7"
      },
      "outputs": [],
      "source": [
        "import typing\n",
        "from typing import Any, Union, Optional, List, Dict\n",
        "\n",
        "import math\n",
        "import numpy as np\n",
        "\n",
        "import matplotlib.pyplot as plt\n",
        "\n",
        "import torch\n",
        "from torch import Tensor\n",
        "from torch.nn import Module, MSELoss, ModuleList, Sigmoid, ReLU, Identity, Tanh\n",
        "from torch.optim import SGD, Optimizer"
      ]
    },
    {
      "cell_type": "code",
      "execution_count": 361,
      "metadata": {
        "id": "7n1Gtqh3tfd_"
      },
      "outputs": [],
      "source": [
        "class MultiLayerModule (Module):\n",
        "    layers: ModuleList\n",
        "    layer_sizes: int\n",
        "\n",
        "    def __init__(self, layer_sizes: List[int]):\n",
        "        super().__init__()\n",
        "        layer_sizes = [1] + layer_sizes + [1]\n",
        "        self.layer_sizes = layer_sizes\n",
        "        self.layers = ModuleList()\n",
        "        for i in range(1, len(layer_sizes)):\n",
        "            layer = Layer(layer_sizes[i-1], layer_sizes[i], activation_function=(None if i != len(layer_sizes)-1 else Identity()))\n",
        "            self.layers.append(layer)\n",
        "\n",
        "    def forward(self, x: Tensor) -> Tensor:\n",
        "        x = x.unsqueeze(-1).unsqueeze(-1)\n",
        "        for layer in self.layers:\n",
        "            x = layer(x)\n",
        "        return x.squeeze(-1).squeeze(-1)\n",
        "\n",
        "\n",
        "class Layer (Module):\n",
        "    weights: Tensor\n",
        "    activation_function: Module\n",
        "\n",
        "    def __init__(self, input_size: int, output_size: int, activation_function: Optional[Module] = None):\n",
        "        super().__init__()\n",
        "        self.weights = torch.nn.Parameter(torch.rand(\n",
        "            (1, input_size, output_size), dtype=torch.float, requires_grad=True))\n",
        "        if activation_function is None: activation_function = Tanh()\n",
        "        self.activation_function = activation_function\n",
        "        print(self.activation_function._get_name())\n",
        "\n",
        "    def forward(self, x: Tensor) -> Tensor:\n",
        "        return self.activation_function(x @ self.weights)\n",
        "\n"
      ]
    },
    {
      "cell_type": "code",
      "execution_count": 362,
      "metadata": {
        "id": "czIsb1KitfeC"
      },
      "outputs": [],
      "source": [
        "def fit(model: Module, x: Tensor, y: Tensor, epochs: int = 2000, criterion: Optional[Module] = None, optimizer: Optional[Optimizer] = None,\n",
        "        lr: float = 1e-6) -> np.ndarray:\n",
        "\n",
        "    if (criterion is None):\n",
        "        criterion = MSELoss(reduction='sum')\n",
        "    if (optimizer is None):\n",
        "        optimizer = SGD(model.parameters(), lr=lr)\n",
        "\n",
        "    loss_history: np.ndarray = np.array([])\n",
        "\n",
        "    for t in range(epochs):\n",
        "        y_pred = model(x)\n",
        "        loss = criterion(y_pred, y)\n",
        "        if t % 10 == 0:\n",
        "            loss_history = np.append(loss_history, loss.detach().numpy())\n",
        "            print(t, loss_history[-1])\n",
        "        optimizer.zero_grad()\n",
        "        loss.backward()\n",
        "        optimizer.step()\n",
        "\n",
        "    return loss_history"
      ]
    },
    {
      "cell_type": "code",
      "execution_count": 363,
      "metadata": {
        "id": "qN7psC2atfeE"
      },
      "outputs": [],
      "source": [
        "x = torch.linspace(-math.pi, math.pi, 2000, dtype=torch.float)\n",
        "y = torch.sin(x)"
      ]
    },
    {
      "cell_type": "code",
      "execution_count": 364,
      "metadata": {
        "id": "YUPnWUsBtfeG"
      },
      "outputs": [
        {
          "name": "stdout",
          "output_type": "stream",
          "text": [
            "Tanh\n",
            "Tanh\n",
            "Tanh\n",
            "Tanh\n",
            "Tanh\n",
            "Identity\n"
          ]
        }
      ],
      "source": [
        "m: Module = MultiLayerModule([16,32,64,32,16])"
      ]
    },
    {
      "cell_type": "code",
      "execution_count": 365,
      "metadata": {
        "id": "S0zbDHJgtfeH",
        "outputId": "6d9dcef0-38d1-4068-f094-596974d1be38"
      },
      "outputs": [
        {
          "name": "stdout",
          "output_type": "stream",
          "text": [
            "0 139256.34375\n",
            "10 37235.62109375\n",
            "20 10058.369140625\n",
            "30 2818.639404296875\n",
            "40 890.0516967773438\n",
            "50 376.29638671875\n",
            "60 239.43751525878906\n",
            "70 202.97987365722656\n",
            "80 193.26788330078125\n",
            "90 190.68069458007812\n"
          ]
        },
        {
          "data": {
            "text/plain": [
              "[<matplotlib.lines.Line2D at 0x25142a14f08>]"
            ]
          },
          "execution_count": 365,
          "metadata": {},
          "output_type": "execute_result"
        },
        {
          "data": {
            "image/png": "[encoded data removed]",
            "text/plain": [
              "<Figure size 432x288 with 1 Axes>"
            ]
          },
          "metadata": {
            "needs_background": "light"
          },
          "output_type": "display_data"
        }
      ],
      "source": [
        "plt.plot(fit(m,x,y, lr=1e-6, epochs=100))"
      ]
    },
    {
      "cell_type": "code",
      "execution_count": 366,
      "metadata": {
        "id": "bADJ4-dntfeK",
        "outputId": "6060a639-c2f1-428f-b73e-5f874bae09ea"
      },
      "outputs": [
        {
          "data": {
            "text/plain": [
              "<matplotlib.legend.Legend at 0x25142a4d6c8>"
            ]
          },
          "execution_count": 366,
          "metadata": {},
          "output_type": "execute_result"
        },
        {
          "data": {
            "image/png": "[encoded data removed]",
            "text/plain": [
              "<Figure size 432x288 with 1 Axes>"
            ]
          },
          "metadata": {
            "needs_background": "light"
          },
          "output_type": "display_data"
        }
      ],
      "source": [
        "plt.plot(x, y, label=\"y\")\n",
        "plt.plot(x, m(x).detach(), label=\"pred_y\")\n",
        "plt.legend()"
      ]
    }
  ],
  "metadata": {
    "colab": {
      "include_colab_link": true,
      "name": "Optimizer_Regression.ipynb",
      "provenance": []
    },
    "interpreter": {
      "hash": "b3ba2566441a7c06988d0923437866b63cedc61552a5af99d1f4fb67d367b25f"
    },
    "kernelspec": {
      "display_name": "Python 3.7.6 ('base')",
      "language": "python",
      "name": "python3"
    },
    "language_info": {
      "codemirror_mode": {
        "name": "ipython",
        "version": 3
      },
      "file_extension": ".py",
      "mimetype": "text/x-python",
      "name": "python",
      "nbconvert_exporter": "python",
      "pygments_lexer": "ipython3",
      "version": "3.7.6"
    },
    "orig_nbformat": 4
  },
  "nbformat": 4,
  "nbformat_minor": 0
}
